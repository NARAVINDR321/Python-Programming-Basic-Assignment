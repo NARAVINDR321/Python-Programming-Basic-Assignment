{
 "cells": [
  {
   "cell_type": "markdown",
   "metadata": {},
   "source": [
    "# Programming Assignment 2"
   ]
  },
  {
   "cell_type": "code",
   "execution_count": 4,
   "metadata": {},
   "outputs": [
    {
     "name": "stdout",
     "output_type": "stream",
     "text": [
      "Enter value in km: 2.1\n",
      "2.1 kms is equal to 1.305158483530143 miles\n"
     ]
    }
   ],
   "source": [
    "#Q.1.\n",
    "\n",
    "km = float(input('Enter value in km: '))\n",
    "miles = km / 1.609\n",
    "print(km, 'kms is equal to', miles, 'miles')"
   ]
  },
  {
   "cell_type": "code",
   "execution_count": 5,
   "metadata": {},
   "outputs": [
    {
     "name": "stdout",
     "output_type": "stream",
     "text": [
      "Enter value in Celsius: 25\n",
      "25.0 degree Celsius is equal to 77.0 degree Fahrenheit\n"
     ]
    }
   ],
   "source": [
    "#Q.2.\n",
    "\n",
    "cel = float(input('Enter value in Celsius: '))\n",
    "frh = (9/5)*cel + 32\n",
    "print(cel, 'degree Celsius is equal to', frh, 'degree Fahrenheit')"
   ]
  },
  {
   "cell_type": "code",
   "execution_count": 18,
   "metadata": {},
   "outputs": [
    {
     "name": "stdout",
     "output_type": "stream",
     "text": [
      "    January 2020\n",
      "Mo Tu We Th Fr Sa Su\n",
      "       1  2  3  4  5\n",
      " 6  7  8  9 10 11 12\n",
      "13 14 15 16 17 18 19\n",
      "20 21 22 23 24 25 26\n",
      "27 28 29 30 31\n",
      "\n"
     ]
    }
   ],
   "source": [
    "#Q.3.\n",
    "\n",
    "import calendar\n",
    "\n",
    "month = 1\n",
    "year = 2020\n",
    "\n",
    "print(calendar.month(year, month))"
   ]
  },
  {
   "cell_type": "code",
   "execution_count": 15,
   "metadata": {},
   "outputs": [
    {
     "name": "stdout",
     "output_type": "stream",
     "text": [
      "To solve quadratic equation ax^2 + b^x + c = 0\n",
      "Enter a: 1\n",
      "Enter a: 1\n",
      "Enter a: 1\n",
      "Equation: 1.0 x^2 + 1.0 x + 1.0 = 0\n",
      "Solution: x = (-0.49999999999999994+0.8660254037844386j) or (-0.5-0.8660254037844386j)\n"
     ]
    }
   ],
   "source": [
    "#Q.4.\n",
    "\n",
    "print('To solve quadratic equation ax^2 + b^x + c = 0')\n",
    "a = float(input('Enter a: '))\n",
    "b = float(input('Enter a: '))\n",
    "c = float(input('Enter a: '))\n",
    "print('Equation:',a,'x^2 +',b,'x +',c,'= 0')\n",
    "D = b**2 - 4*a*c\n",
    "sol1 = (-b + D**(1/2))/(2*a)\n",
    "sol2 = (-b - D**(1/2))/(2*a)\n",
    "if sol1 == sol2:\n",
    "    print('Solution: x =', sol1)\n",
    "else:\n",
    "    print('Solution: x =', sol1, 'or', sol2)"
   ]
  },
  {
   "cell_type": "code",
   "execution_count": 16,
   "metadata": {},
   "outputs": [
    {
     "name": "stdout",
     "output_type": "stream",
     "text": [
      "a before swap: 1\n",
      "b before swap: 2\n",
      "a after swap: 2\n",
      "b after swap: 1\n"
     ]
    }
   ],
   "source": [
    "#Q.5.\n",
    "\n",
    "a,b = 1,2\n",
    "print('a before swap:', a)\n",
    "print('b before swap:', b)\n",
    "a,b = b,a\n",
    "print('a after swap:', a)\n",
    "print('b after swap:', b)"
   ]
  },
  {
   "cell_type": "code",
   "execution_count": null,
   "metadata": {},
   "outputs": [],
   "source": []
  }
 ],
 "metadata": {
  "kernelspec": {
   "display_name": "Python 3 (ipykernel)",
   "language": "python",
   "name": "python3"
  },
  "language_info": {
   "codemirror_mode": {
    "name": "ipython",
    "version": 3
   },
   "file_extension": ".py",
   "mimetype": "text/x-python",
   "name": "python",
   "nbconvert_exporter": "python",
   "pygments_lexer": "ipython3",
   "version": "3.9.7"
  }
 },
 "nbformat": 4,
 "nbformat_minor": 4
}
