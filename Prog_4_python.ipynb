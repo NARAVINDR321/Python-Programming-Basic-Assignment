{
 "cells": [
  {
   "cell_type": "markdown",
   "metadata": {},
   "source": [
    "# Programming Assignment 4"
   ]
  },
  {
   "cell_type": "code",
   "execution_count": 1,
   "metadata": {},
   "outputs": [
    {
     "name": "stdout",
     "output_type": "stream",
     "text": [
      "Enter a number: 4\n",
      "Factorial of 4 = 24\n"
     ]
    }
   ],
   "source": [
    "#Q.1.\n",
    "\n",
    "num = int(input('Enter a number: '))\n",
    "f = 1\n",
    "for i in range(1, num+1):\n",
    "    f *= i\n",
    "print('Factorial of', num, '=', f)"
   ]
  },
  {
   "cell_type": "code",
   "execution_count": 2,
   "metadata": {},
   "outputs": [
    {
     "name": "stdout",
     "output_type": "stream",
     "text": [
      "Enter a number: 3\n",
      "3 * 1 = 3\n",
      "3 * 2 = 6\n",
      "3 * 3 = 9\n",
      "3 * 4 = 12\n",
      "3 * 5 = 15\n",
      "3 * 6 = 18\n",
      "3 * 7 = 21\n",
      "3 * 8 = 24\n",
      "3 * 9 = 27\n"
     ]
    }
   ],
   "source": [
    "#Q.2.\n",
    "\n",
    "num = int(input('Enter a number: '))\n",
    "for i in range(1,10):\n",
    "    print(num, '*', i, '=', num*i)"
   ]
  },
  {
   "cell_type": "code",
   "execution_count": 7,
   "metadata": {},
   "outputs": [
    {
     "name": "stdout",
     "output_type": "stream",
     "text": [
      "Enter length of Fibonacci sequence: 10\n",
      "0\n",
      "1\n",
      "2\n",
      "3\n",
      "5\n",
      "8\n",
      "13\n",
      "21\n",
      "34\n",
      "55\n"
     ]
    }
   ],
   "source": [
    "#Q.3.\n",
    "\n",
    "n = int(input('Enter length of Fibonacci sequence: '))\n",
    "a, b = 0, 1\n",
    "print(a)\n",
    "for i in range(n-1):\n",
    "    add = a + b\n",
    "    print(add)\n",
    "    a = b\n",
    "    b = add"
   ]
  },
  {
   "cell_type": "code",
   "execution_count": 24,
   "metadata": {},
   "outputs": [
    {
     "name": "stdout",
     "output_type": "stream",
     "text": [
      "Enter a number: 153\n",
      "153 is an Armstrong number\n"
     ]
    }
   ],
   "source": [
    "#Q.4.\n",
    "\n",
    "num = int(input('Enter a number: '))\n",
    "if sum([int(x)**3 for x in str(num)]) == num:\n",
    "    print(num, 'is an Armstrong number')\n",
    "else:\n",
    "    print(num, 'is not an Armstrong number')"
   ]
  },
  {
   "cell_type": "code",
   "execution_count": 22,
   "metadata": {},
   "outputs": [
    {
     "name": "stdout",
     "output_type": "stream",
     "text": [
      "Enter start value of interval: 10\n",
      "Enter end value of interval: 500\n",
      "Armstrong numbers in the range of 10 and 500 : \n",
      "153\n",
      "370\n",
      "371\n",
      "407\n"
     ]
    }
   ],
   "source": [
    "#Q.5.\n",
    "\n",
    "start = int(input('Enter start value of interval: '))\n",
    "end = int(input('Enter end value of interval: '))\n",
    "print('Armstrong numbers in the range of', start, 'and', end, ': ')\n",
    "for i in range(start, end+1):\n",
    "    if sum([int(x)**3 for x in str(i)]) == i:\n",
    "        print(i)"
   ]
  },
  {
   "cell_type": "code",
   "execution_count": 25,
   "metadata": {},
   "outputs": [
    {
     "name": "stdout",
     "output_type": "stream",
     "text": [
      "Enter number of natural numbers to consider: 5\n",
      "Sum of 5 natural numbers = 15\n"
     ]
    }
   ],
   "source": [
    "#Q.6.\n",
    "\n",
    "num = int(input('Enter number of natural numbers to consider: '))\n",
    "add = 0\n",
    "for i in range(1, num+1):\n",
    "    add += i\n",
    "print('Sum of', num, 'natural numbers =', add)"
   ]
  },
  {
   "cell_type": "code",
   "execution_count": null,
   "metadata": {},
   "outputs": [],
   "source": []
  }
 ],
 "metadata": {
  "kernelspec": {
   "display_name": "Python 3",
   "language": "python",
   "name": "python3"
  },
  "language_info": {
   "codemirror_mode": {
    "name": "ipython",
    "version": 3
   },
   "file_extension": ".py",
   "mimetype": "text/x-python",
   "name": "python",
   "nbconvert_exporter": "python",
   "pygments_lexer": "ipython3",
   "version": "3.7.4"
  }
 },
 "nbformat": 4,
 "nbformat_minor": 4
}
