{
 "cells": [
  {
   "cell_type": "markdown",
   "metadata": {},
   "source": [
    "# Programming Assignment 11"
   ]
  },
  {
   "cell_type": "code",
   "execution_count": 1,
   "metadata": {},
   "outputs": [
    {
     "data": {
      "text/plain": [
       "['doing', 'nothing']"
      ]
     },
     "execution_count": 1,
     "metadata": {},
     "output_type": "execute_result"
    }
   ],
   "source": [
    "# Q.1.\n",
    "\n",
    "def find_words(words, k):\n",
    "    ls = []\n",
    "    for w in words:\n",
    "        if len(w) > k:\n",
    "            ls.append(w)\n",
    "    return ls\n",
    "find_words([\"am\", \"doing\", \"nothing\", \"yet\"], 4)"
   ]
  },
  {
   "cell_type": "code",
   "execution_count": 3,
   "metadata": {},
   "outputs": [
    {
     "data": {
      "text/plain": [
       "'money'"
      ]
     },
     "execution_count": 3,
     "metadata": {},
     "output_type": "execute_result"
    }
   ],
   "source": [
    "# Q.2.\n",
    "\n",
    "def remove_ith(s, pos):\n",
    "    return s[:pos] + s[pos+1:]\n",
    "\n",
    "remove_ith(\"monkey\", 3)"
   ]
  },
  {
   "cell_type": "code",
   "execution_count": 6,
   "metadata": {},
   "outputs": [
    {
     "name": "stdout",
     "output_type": "stream",
     "text": [
      "['s', 'p', 'l', 'i', 't', 's', 't', 'r', 'i', 'n', 'g']\n",
      "splitstring\n"
     ]
    }
   ],
   "source": [
    "# Q.3.\n",
    "\n",
    "def split_str(s):\n",
    "    return list(s)\n",
    "def join_str(l):\n",
    "    return ''.join(l)\n",
    "split = split_str(\"splitstring\")\n",
    "print(split)\n",
    "joined = join_str(split)\n",
    "print(joined)"
   ]
  },
  {
   "cell_type": "code",
   "execution_count": 7,
   "metadata": {},
   "outputs": [
    {
     "name": "stdout",
     "output_type": "stream",
     "text": [
      "True\n",
      "False\n"
     ]
    }
   ],
   "source": [
    "# Q.4.\n",
    "\n",
    "def is_binary(s):\n",
    "    for c in s:\n",
    "        if not (c == '0' or c == '1'):\n",
    "            break\n",
    "    else:\n",
    "        return True\n",
    "    return False\n",
    "print(is_binary(\"01001011\"))\n",
    "print(is_binary(\"a0d3\"))\n"
   ]
  },
  {
   "cell_type": "code",
   "execution_count": 17,
   "metadata": {},
   "outputs": [],
   "source": [
    "# Q.5.\n",
    "\n",
    "def uncommon(s1, s2):\n",
    "    ws1 = set(s1.split())\n",
    "    ws2 = set(s2.split())\n",
    "    return list(ws1.union(ws2) - ws1.intersection(ws2))"
   ]
  },
  {
   "cell_type": "code",
   "execution_count": 18,
   "metadata": {},
   "outputs": [
    {
     "data": {
      "text/plain": [
       "['Stats', 'India', 'Index', 'Slack']"
      ]
     },
     "execution_count": 18,
     "metadata": {},
     "output_type": "execute_result"
    }
   ],
   "source": [
    "uncommon(\"India AI Index\", \"Stats AI Slack\")"
   ]
  },
  {
   "cell_type": "code",
   "execution_count": 22,
   "metadata": {},
   "outputs": [],
   "source": [
    "# Q.6.\n",
    "\n",
    "def duplicate(s):\n",
    "    d = {}\n",
    "    for c in s:\n",
    "        d[c] = d.get(c, 0) + 1\n",
    "    return [k for k in d if d[k] > 1]\n",
    "    "
   ]
  },
  {
   "cell_type": "code",
   "execution_count": 23,
   "metadata": {},
   "outputs": [
    {
     "data": {
      "text/plain": [
       "['b', 'l', 'c', 'i', 'a']"
      ]
     },
     "execution_count": 23,
     "metadata": {},
     "output_type": "execute_result"
    }
   ],
   "source": [
    "duplicate(\"bubblycolbiecaillat\")"
   ]
  },
  {
   "cell_type": "code",
   "execution_count": 26,
   "metadata": {},
   "outputs": [],
   "source": [
    "# Q.7.\n",
    "\n",
    "def anyspl(s):\n",
    "    for c in s:\n",
    "        if not c.isalnum():\n",
    "            return True\n",
    "    return False"
   ]
  },
  {
   "cell_type": "code",
   "execution_count": 27,
   "metadata": {},
   "outputs": [
    {
     "data": {
      "text/plain": [
       "False"
      ]
     },
     "execution_count": 27,
     "metadata": {},
     "output_type": "execute_result"
    }
   ],
   "source": [
    "anyspl(\"abc123\")"
   ]
  },
  {
   "cell_type": "code",
   "execution_count": 28,
   "metadata": {},
   "outputs": [
    {
     "data": {
      "text/plain": [
       "True"
      ]
     },
     "execution_count": 28,
     "metadata": {},
     "output_type": "execute_result"
    }
   ],
   "source": [
    "anyspl(\"a#b1\")"
   ]
  },
  {
   "cell_type": "code",
   "execution_count": null,
   "metadata": {},
   "outputs": [],
   "source": []
  }
 ],
 "metadata": {
  "kernelspec": {
   "display_name": "Python 3",
   "language": "python",
   "name": "python3"
  },
  "language_info": {
   "codemirror_mode": {
    "name": "ipython",
    "version": 3
   },
   "file_extension": ".py",
   "mimetype": "text/x-python",
   "name": "python",
   "nbconvert_exporter": "python",
   "pygments_lexer": "ipython3",
   "version": "3.8.5"
  }
 },
 "nbformat": 4,
 "nbformat_minor": 4
}
