{
 "cells": [
  {
   "cell_type": "markdown",
   "metadata": {},
   "source": [
    "# Programming Assignment 9"
   ]
  },
  {
   "cell_type": "code",
   "execution_count": 1,
   "metadata": {},
   "outputs": [
    {
     "name": "stdout",
     "output_type": "stream",
     "text": [
      "True\n",
      "True\n",
      "False\n"
     ]
    }
   ],
   "source": [
    "# Q.1.\n",
    "\n",
    "def check_disarium(n):\n",
    "    x = str(n)\n",
    "    add = 0\n",
    "    for i in range(len(x)):\n",
    "        d = int(x[i])\n",
    "        add += d ** (i+1)\n",
    "    return (add == n)\n",
    "print(check_disarium(135))\n",
    "print(check_disarium(89))\n",
    "print(check_disarium(25))\n",
    "        "
   ]
  },
  {
   "cell_type": "code",
   "execution_count": 2,
   "metadata": {},
   "outputs": [
    {
     "name": "stdout",
     "output_type": "stream",
     "text": [
      "1\n",
      "2\n",
      "3\n",
      "4\n",
      "5\n",
      "6\n",
      "7\n",
      "8\n",
      "9\n",
      "89\n"
     ]
    }
   ],
   "source": [
    "# Q.2.\n",
    "\n",
    "for i in range(1, 101):\n",
    "    if check_disarium(i):\n",
    "        print(i)"
   ]
  },
  {
   "cell_type": "code",
   "execution_count": 17,
   "metadata": {},
   "outputs": [
    {
     "name": "stdout",
     "output_type": "stream",
     "text": [
      "False\n",
      "True\n"
     ]
    }
   ],
   "source": [
    "# Q.3.\n",
    "\n",
    "def check_happy(n):\n",
    "    num = n\n",
    "    start = True\n",
    "    rounds = 10000 #we run the loop for 10000 rounds\n",
    "    for r in range(rounds):\n",
    "        if num == n and start != True:\n",
    "            return False\n",
    "        if num == 1:\n",
    "            break\n",
    "        add = 0\n",
    "        if num < 10:\n",
    "            num = num**2\n",
    "            continue\n",
    "        x = str(num)\n",
    "        for j in range(len(x)):\n",
    "            add += int(x[j])**2\n",
    "        num = add\n",
    "        start = False\n",
    "    else:\n",
    "        return False\n",
    "    return True\n",
    "\n",
    "print(check_happy(4))\n",
    "print(check_happy(13))"
   ]
  },
  {
   "cell_type": "code",
   "execution_count": 18,
   "metadata": {},
   "outputs": [
    {
     "name": "stdout",
     "output_type": "stream",
     "text": [
      "1\n",
      "7\n",
      "10\n",
      "13\n",
      "19\n",
      "23\n",
      "28\n",
      "31\n",
      "32\n",
      "44\n",
      "49\n",
      "68\n",
      "70\n",
      "79\n",
      "82\n",
      "86\n",
      "91\n",
      "94\n",
      "97\n",
      "100\n"
     ]
    }
   ],
   "source": [
    "# Q.4.\n",
    "\n",
    "for i in range(1, 101):\n",
    "    if check_happy(i):\n",
    "        print(i)"
   ]
  },
  {
   "cell_type": "code",
   "execution_count": 19,
   "metadata": {},
   "outputs": [
    {
     "name": "stdout",
     "output_type": "stream",
     "text": [
      "True\n",
      "False\n"
     ]
    }
   ],
   "source": [
    "# Q.5.\n",
    "\n",
    "def check_harshad(n):\n",
    "    x = str(n)\n",
    "    add = 0\n",
    "    for i in range(len(x)):\n",
    "        add += int(x[i])\n",
    "    if n % add == 0:\n",
    "        return True\n",
    "    return False\n",
    "print(check_harshad(18))\n",
    "print(check_harshad(19))"
   ]
  },
  {
   "cell_type": "code",
   "execution_count": 23,
   "metadata": {},
   "outputs": [
    {
     "name": "stdout",
     "output_type": "stream",
     "text": [
      "2\n",
      "6\n",
      "12\n",
      "20\n",
      "30\n",
      "42\n",
      "56\n",
      "72\n",
      "90\n"
     ]
    }
   ],
   "source": [
    "# Q.6.\n",
    "\n",
    "for i in range(1, 101):\n",
    "    for n in range(1, i):\n",
    "        if n*(n+1) == i:\n",
    "            print(i)\n",
    "            break"
   ]
  },
  {
   "cell_type": "code",
   "execution_count": null,
   "metadata": {},
   "outputs": [],
   "source": []
  }
 ],
 "metadata": {
  "kernelspec": {
   "display_name": "Python 3",
   "language": "python",
   "name": "python3"
  },
  "language_info": {
   "codemirror_mode": {
    "name": "ipython",
    "version": 3
   },
   "file_extension": ".py",
   "mimetype": "text/x-python",
   "name": "python",
   "nbconvert_exporter": "python",
   "pygments_lexer": "ipython3",
   "version": "3.8.5"
  }
 },
 "nbformat": 4,
 "nbformat_minor": 4
}
