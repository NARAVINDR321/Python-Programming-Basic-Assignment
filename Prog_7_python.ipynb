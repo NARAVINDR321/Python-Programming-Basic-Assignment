{
 "cells": [
  {
   "cell_type": "markdown",
   "metadata": {},
   "source": [
    "# Programming Assignment 7"
   ]
  },
  {
   "cell_type": "code",
   "execution_count": 4,
   "metadata": {},
   "outputs": [],
   "source": [
    "import array"
   ]
  },
  {
   "cell_type": "code",
   "execution_count": 13,
   "metadata": {},
   "outputs": [],
   "source": [
    "# Q.1.\n",
    "def sum_array(lst):\n",
    "    try:\n",
    "        arr = array.array('i', lst)\n",
    "        add = 0\n",
    "        l = arr.buffer_info()[1]\n",
    "        for i in range(l):\n",
    "            add += arr[i]\n",
    "        return add\n",
    "    except Exception as e:\n",
    "        print(e)\n",
    "        return None"
   ]
  },
  {
   "cell_type": "code",
   "execution_count": 14,
   "metadata": {},
   "outputs": [
    {
     "name": "stdout",
     "output_type": "stream",
     "text": [
      "cannot use a str to initialize an array with typecode 'i'\n"
     ]
    }
   ],
   "source": [
    "sum_array('abc')"
   ]
  },
  {
   "cell_type": "code",
   "execution_count": 15,
   "metadata": {},
   "outputs": [
    {
     "data": {
      "text/plain": [
       "0"
      ]
     },
     "execution_count": 15,
     "metadata": {},
     "output_type": "execute_result"
    }
   ],
   "source": [
    "sum_array([])"
   ]
  },
  {
   "cell_type": "code",
   "execution_count": 16,
   "metadata": {},
   "outputs": [
    {
     "data": {
      "text/plain": [
       "15"
      ]
     },
     "execution_count": 16,
     "metadata": {},
     "output_type": "execute_result"
    }
   ],
   "source": [
    "sum_array([1,2,3,4,5])"
   ]
  },
  {
   "cell_type": "code",
   "execution_count": 17,
   "metadata": {},
   "outputs": [],
   "source": [
    "# Q.2.\n",
    "\n",
    "def max_array(lst):\n",
    "    try:\n",
    "        arr = array.array('i', lst)\n",
    "        m = arr[0]\n",
    "        l = arr.buffer_info()[1]\n",
    "        for i in range(l):\n",
    "            m = max(m, arr[i])\n",
    "        return m\n",
    "    except Exception as e:\n",
    "        print(e)\n",
    "        return None"
   ]
  },
  {
   "cell_type": "code",
   "execution_count": 18,
   "metadata": {},
   "outputs": [
    {
     "data": {
      "text/plain": [
       "200"
      ]
     },
     "execution_count": 18,
     "metadata": {},
     "output_type": "execute_result"
    }
   ],
   "source": [
    "max_array([4,3,2,99,200])"
   ]
  },
  {
   "cell_type": "code",
   "execution_count": 39,
   "metadata": {},
   "outputs": [],
   "source": [
    "# Q.3.\n",
    "\n",
    "def rotate_array(lst, pos):\n",
    "    # left rotates an array by 'pos' number of places\n",
    "    try:\n",
    "        arr = array.array('i', lst)\n",
    "        l = arr.buffer_info()[1] # length of array\n",
    "        f = lst[0:pos]\n",
    "        for i in range(l-pos):\n",
    "            arr[i] = arr[(i+pos)%l]\n",
    "        for i in range(0, pos):\n",
    "            arr[l-pos+i] = f[i]\n",
    "        return arr\n",
    "    except Exception as e:\n",
    "        print(e)\n",
    "        return None"
   ]
  },
  {
   "cell_type": "code",
   "execution_count": 40,
   "metadata": {},
   "outputs": [
    {
     "data": {
      "text/plain": [
       "array('i', [2, 3, 4, 5, 1])"
      ]
     },
     "execution_count": 40,
     "metadata": {},
     "output_type": "execute_result"
    }
   ],
   "source": [
    "rotate_array([1,2,3,4,5], 1)"
   ]
  },
  {
   "cell_type": "code",
   "execution_count": 41,
   "metadata": {},
   "outputs": [
    {
     "data": {
      "text/plain": [
       "array('i', [3, 4, 5, 1, 2])"
      ]
     },
     "execution_count": 41,
     "metadata": {},
     "output_type": "execute_result"
    }
   ],
   "source": [
    "rotate_array([1,2,3,4,5], 2)"
   ]
  },
  {
   "cell_type": "code",
   "execution_count": 42,
   "metadata": {},
   "outputs": [],
   "source": [
    "# Q.4.\n",
    "\n",
    "def split_array(lst, pos):\n",
    "    # Split array at 'pos' position\n",
    "    try:\n",
    "        arr = array.array('i', lst)\n",
    "        l = arr.buffer_info()[1]\n",
    "        f = lst[0:pos]\n",
    "        for i in range(l-pos):\n",
    "            arr[i] = arr[(i+pos)%l]\n",
    "        for i in range(0, pos):\n",
    "            arr[l-pos+i] = f[i]\n",
    "        return arr\n",
    "    except Exception as e:\n",
    "        print(e)\n",
    "        return None"
   ]
  },
  {
   "cell_type": "code",
   "execution_count": 43,
   "metadata": {},
   "outputs": [
    {
     "data": {
      "text/plain": [
       "array('i', [2, 0, 7, 5])"
      ]
     },
     "execution_count": 43,
     "metadata": {},
     "output_type": "execute_result"
    }
   ],
   "source": [
    "split_array([7, 5, 2, 0], 2)"
   ]
  },
  {
   "cell_type": "code",
   "execution_count": 46,
   "metadata": {},
   "outputs": [],
   "source": [
    "# Q.5.\n",
    "\n",
    "def is_monotonic_array(lst):\n",
    "    try:\n",
    "        arr = array.array('i', lst)\n",
    "        l = arr.buffer_info()[1]\n",
    "        if l <= 2:\n",
    "            return True\n",
    "        if arr[0] < arr[1]:\n",
    "            for i in range(l-1):\n",
    "                if arr[i] > arr[i+1]:\n",
    "                    return False\n",
    "        elif arr[0] > arr[1]:\n",
    "            for i in range(l-1):\n",
    "                if arr[i] < arr[i+1]:\n",
    "                    return False\n",
    "        else:\n",
    "            return is_monotonic_array(list(arr)[1:])\n",
    "        return True\n",
    "    except Exception as e:\n",
    "        print(e)\n",
    "        return None"
   ]
  },
  {
   "cell_type": "code",
   "execution_count": 47,
   "metadata": {},
   "outputs": [
    {
     "data": {
      "text/plain": [
       "True"
      ]
     },
     "execution_count": 47,
     "metadata": {},
     "output_type": "execute_result"
    }
   ],
   "source": [
    "is_monotonic_array([1,2,3,4,5])"
   ]
  },
  {
   "cell_type": "code",
   "execution_count": 48,
   "metadata": {},
   "outputs": [
    {
     "data": {
      "text/plain": [
       "True"
      ]
     },
     "execution_count": 48,
     "metadata": {},
     "output_type": "execute_result"
    }
   ],
   "source": [
    "is_monotonic_array([5,4,3,2,1])"
   ]
  },
  {
   "cell_type": "code",
   "execution_count": 49,
   "metadata": {},
   "outputs": [
    {
     "data": {
      "text/plain": [
       "False"
      ]
     },
     "execution_count": 49,
     "metadata": {},
     "output_type": "execute_result"
    }
   ],
   "source": [
    "is_monotonic_array([1,2,5,4,3])"
   ]
  },
  {
   "cell_type": "code",
   "execution_count": 50,
   "metadata": {},
   "outputs": [
    {
     "data": {
      "text/plain": [
       "True"
      ]
     },
     "execution_count": 50,
     "metadata": {},
     "output_type": "execute_result"
    }
   ],
   "source": [
    "is_monotonic_array([1,1,2,3,4])"
   ]
  },
  {
   "cell_type": "code",
   "execution_count": 51,
   "metadata": {},
   "outputs": [
    {
     "data": {
      "text/plain": [
       "False"
      ]
     },
     "execution_count": 51,
     "metadata": {},
     "output_type": "execute_result"
    }
   ],
   "source": [
    "is_monotonic_array([1,1,2,3,4,2])"
   ]
  },
  {
   "cell_type": "code",
   "execution_count": null,
   "metadata": {},
   "outputs": [],
   "source": []
  }
 ],
 "metadata": {
  "kernelspec": {
   "display_name": "Python 3",
   "language": "python",
   "name": "python3"
  },
  "language_info": {
   "codemirror_mode": {
    "name": "ipython",
    "version": 3
   },
   "file_extension": ".py",
   "mimetype": "text/x-python",
   "name": "python",
   "nbconvert_exporter": "python",
   "pygments_lexer": "ipython3",
   "version": "3.8.5"
  }
 },
 "nbformat": 4,
 "nbformat_minor": 4
}
