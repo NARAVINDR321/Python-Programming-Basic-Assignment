{
 "cells": [
  {
   "cell_type": "markdown",
   "metadata": {},
   "source": [
    "# Programming Assignment 6"
   ]
  },
  {
   "cell_type": "code",
   "execution_count": 1,
   "metadata": {},
   "outputs": [
    {
     "name": "stdout",
     "output_type": "stream",
     "text": [
      "Enter a number: 10\n",
      "The fibonacci number at position 10 = 34\n"
     ]
    }
   ],
   "source": [
    "#Q.1.\n",
    "\n",
    "def fib(n):\n",
    "    if n == 1:\n",
    "        return 0\n",
    "    if n == 2:\n",
    "        return 1\n",
    "    return fib(n-1) + fib(n-2)\n",
    "num = int(input('Enter a number: '))\n",
    "print('The fibonacci number at position', num, '=', fib(num))\n"
   ]
  },
  {
   "cell_type": "code",
   "execution_count": 2,
   "metadata": {},
   "outputs": [
    {
     "name": "stdout",
     "output_type": "stream",
     "text": [
      "Enter a number: 5\n",
      "The factorial of 5 = 120\n"
     ]
    }
   ],
   "source": [
    "#Q.2.\n",
    "\n",
    "def fact(n):\n",
    "    if n <= 1:\n",
    "        return 1\n",
    "    return n * fact(n-1)\n",
    "num = int(input('Enter a number: '))\n",
    "print('The factorial of', num, '=', fact(num))"
   ]
  },
  {
   "cell_type": "code",
   "execution_count": 5,
   "metadata": {},
   "outputs": [
    {
     "name": "stdout",
     "output_type": "stream",
     "text": [
      "Enter your height in cm: 170\n",
      "Enter your weight in kg: 65\n",
      "Your BMI is: 22.49\n"
     ]
    }
   ],
   "source": [
    "#Q.3.\n",
    "\n",
    "h = float(input('Enter your height in cm: '))\n",
    "w = float(input('Enter your weight in kg: '))\n",
    "bmi = w/(h/100)**2\n",
    "print('Your BMI is:', round(bmi,2))"
   ]
  },
  {
   "cell_type": "code",
   "execution_count": 9,
   "metadata": {},
   "outputs": [
    {
     "name": "stdout",
     "output_type": "stream",
     "text": [
      "Enter a positive number: 2\n",
      "0.6931471805599453\n"
     ]
    }
   ],
   "source": [
    "#Q.4.\n",
    "\n",
    "import math\n",
    "\n",
    "n = float(input('Enter a positive number: '))\n",
    "ln = math.log(n)\n",
    "print(ln)"
   ]
  },
  {
   "cell_type": "code",
   "execution_count": 10,
   "metadata": {},
   "outputs": [
    {
     "name": "stdout",
     "output_type": "stream",
     "text": [
      "Enter a number: 5\n",
      "The sum of squares of the first 5 natural numbers = 225\n"
     ]
    }
   ],
   "source": [
    "#Q.5.\n",
    "\n",
    "n = int(input('Enter a number: '))\n",
    "add = 0\n",
    "for i in range(1, n+1):\n",
    "    add += i**3\n",
    "print('The sum of squares of the first',n,'natural numbers =',add)"
   ]
  },
  {
   "cell_type": "code",
   "execution_count": null,
   "metadata": {},
   "outputs": [],
   "source": []
  }
 ],
 "metadata": {
  "kernelspec": {
   "display_name": "Python 3",
   "language": "python",
   "name": "python3"
  },
  "language_info": {
   "codemirror_mode": {
    "name": "ipython",
    "version": 3
   },
   "file_extension": ".py",
   "mimetype": "text/x-python",
   "name": "python",
   "nbconvert_exporter": "python",
   "pygments_lexer": "ipython3",
   "version": "3.7.4"
  }
 },
 "nbformat": 4,
 "nbformat_minor": 4
}
