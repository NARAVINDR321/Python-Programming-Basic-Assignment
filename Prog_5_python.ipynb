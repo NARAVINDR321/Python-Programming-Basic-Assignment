{
 "cells": [
  {
   "cell_type": "markdown",
   "metadata": {},
   "source": [
    "# Programming Assignment 5"
   ]
  },
  {
   "cell_type": "code",
   "execution_count": 8,
   "metadata": {},
   "outputs": [
    {
     "name": "stdout",
     "output_type": "stream",
     "text": [
      "Enter first number: 36\n",
      "Enter second number: 24\n",
      "LCM of 36 and 24 is 72\n"
     ]
    }
   ],
   "source": [
    "#Q.1.\n",
    "\n",
    "import math\n",
    "\n",
    "a = int(input('Enter first number: '))\n",
    "b = int(input('Enter second number: '))\n",
    "gcd = math.gcd(a, b)\n",
    "lcm = abs(a*b)//gcd\n",
    "print('LCM of', a, 'and', b, 'is', lcm)"
   ]
  },
  {
   "cell_type": "code",
   "execution_count": 9,
   "metadata": {},
   "outputs": [
    {
     "name": "stdout",
     "output_type": "stream",
     "text": [
      "Enter first number: 36\n",
      "Enter second number: 24\n",
      "LCM of 36 and 24 is 72\n"
     ]
    }
   ],
   "source": [
    "#method 2\n",
    "\n",
    "a = int(input('Enter first number: '))\n",
    "b = int(input('Enter second number: '))\n",
    "m = max(a, b)\n",
    "lcm = a * b\n",
    "for i in range(m, a * b + 1):\n",
    "    if (i % a == 0) and (i % b == 0):\n",
    "        if i < lcm:\n",
    "            lcm = i\n",
    "print('LCM of', a, 'and', b, 'is', lcm)\n"
   ]
  },
  {
   "cell_type": "code",
   "execution_count": 11,
   "metadata": {},
   "outputs": [
    {
     "name": "stdout",
     "output_type": "stream",
     "text": [
      "Enter first number: 36\n",
      "Enter second number: 24\n",
      "HCF of 36 and 24 is 12\n"
     ]
    }
   ],
   "source": [
    "#Q.2.\n",
    "\n",
    "a = int(input('Enter first number: '))\n",
    "b = int(input('Enter second number: '))\n",
    "gcd = math.gcd(a, b)\n",
    "print('HCF of', a, 'and', b, 'is', gcd)"
   ]
  },
  {
   "cell_type": "code",
   "execution_count": 12,
   "metadata": {},
   "outputs": [
    {
     "name": "stdout",
     "output_type": "stream",
     "text": [
      "Enter first number: 36\n",
      "Enter second number: 24\n",
      "HCF of 36 and 24 is 12\n"
     ]
    }
   ],
   "source": [
    "#method 2\n",
    "\n",
    "a = int(input('Enter first number: '))\n",
    "b = int(input('Enter second number: '))\n",
    "m = max(a, b)\n",
    "hcf = 1\n",
    "for i in range(2, m + 1):\n",
    "    if (a % i == 0) and (b % i == 0):\n",
    "        if i > hcf:\n",
    "            hcf = i\n",
    "print('HCF of', a, 'and', b, 'is', hcf)"
   ]
  },
  {
   "cell_type": "code",
   "execution_count": 36,
   "metadata": {},
   "outputs": [
    {
     "name": "stdout",
     "output_type": "stream",
     "text": [
      "Enter decimal number: 165\n",
      "Binary: 0b10100101\n",
      "Octal: 0o245\n",
      "Hexadecimal: 0xa5\n"
     ]
    }
   ],
   "source": [
    "#Q.3.\n",
    "\n",
    "dec = int(input('Enter decimal number: '))\n",
    "print('Binary:', bin(dec))\n",
    "print('Octal:', oct(dec))\n",
    "print('Hexadecimal:', hex(dec))"
   ]
  },
  {
   "cell_type": "code",
   "execution_count": 37,
   "metadata": {},
   "outputs": [
    {
     "name": "stdout",
     "output_type": "stream",
     "text": [
      "Enter decimal number: 165\n",
      "Binary: 0b10100101\n",
      "Octal: 0o245\n",
      "Hexadecimal: 0xa5\n"
     ]
    }
   ],
   "source": [
    "#Q.3.\n",
    "\n",
    "dec = int(input('Enter decimal number: '))\n",
    "x = dec\n",
    "s = ''\n",
    "if x < 2:\n",
    "    print('Binary:', '0b' + str(x))\n",
    "else:\n",
    "    while x != 0:\n",
    "        s += str(x % 2)\n",
    "        x = x // 2\n",
    "    print('Binary:', '0b' + s[::-1])\n",
    "\n",
    "x = dec\n",
    "s = ''\n",
    "if x < 8:\n",
    "    print('Octal:', '0o' + str(x))\n",
    "else:\n",
    "    while x != 0:\n",
    "        s += str(x % 8)\n",
    "        x = x // 8\n",
    "    print('Octal:', '0o' + s[::-1])\n",
    "\n",
    "x = dec\n",
    "s = ''\n",
    "if x < 10:\n",
    "    print('Hexadecimal:', '0x' + str(x))\n",
    "elif x < 16:\n",
    "    print('Hexadecimal:', '0x' + chr(x - 10 + 97))\n",
    "else:\n",
    "    while x != 0:\n",
    "        x1 = x % 16\n",
    "        if x1 < 10:\n",
    "            s += str(x1)\n",
    "        else:\n",
    "            s += chr(x1 - 10 + 97)\n",
    "        x = x // 16\n",
    "    print('Hexadecimal:', '0x' + s[::-1])"
   ]
  },
  {
   "cell_type": "code",
   "execution_count": 38,
   "metadata": {},
   "outputs": [
    {
     "name": "stdout",
     "output_type": "stream",
     "text": [
      "Enter a character: a\n",
      "ASCII value of a = 97\n"
     ]
    }
   ],
   "source": [
    "#Q.4.\n",
    "\n",
    "ch = input('Enter a character: ')\n",
    "print('ASCII value of', ch, '=', ord(ch))"
   ]
  },
  {
   "cell_type": "code",
   "execution_count": 3,
   "metadata": {},
   "outputs": [
    {
     "name": "stdout",
     "output_type": "stream",
     "text": [
      "Enter first number: 18\n",
      "Enter second number: 20\n",
      "Enter operation number:\n",
      "1. Addition\n",
      "2. Subtraction\n",
      "3. Multiplication\n",
      "4. Division\n",
      "4\n",
      "18.0 / 20.0 = 0.9\n"
     ]
    }
   ],
   "source": [
    "#Q.5.\n",
    "a = float(input('Enter first number: '))\n",
    "b = float(input('Enter second number: '))\n",
    "op = int(input('Enter operation number:\\n1. Addition\\n2. Subtraction\\n3. Multiplication\\n4. Division\\n'))\n",
    "if op == 1:\n",
    "    print(a, '+', b, '=', a + b)\n",
    "elif op == 2:\n",
    "    print(a, '-', b, '=', a - b)\n",
    "elif op == 3:\n",
    "    print(a, '*', b, '=', a * b)\n",
    "elif op == 4:\n",
    "    print(a, '/', b, '=', a / b)\n",
    "else:\n",
    "    print('Invalid number')\n"
   ]
  },
  {
   "cell_type": "code",
   "execution_count": null,
   "metadata": {},
   "outputs": [],
   "source": []
  }
 ],
 "metadata": {
  "kernelspec": {
   "display_name": "Python 3",
   "language": "python",
   "name": "python3"
  },
  "language_info": {
   "codemirror_mode": {
    "name": "ipython",
    "version": 3
   },
   "file_extension": ".py",
   "mimetype": "text/x-python",
   "name": "python",
   "nbconvert_exporter": "python",
   "pygments_lexer": "ipython3",
   "version": "3.7.4"
  }
 },
 "nbformat": 4,
 "nbformat_minor": 4
}
