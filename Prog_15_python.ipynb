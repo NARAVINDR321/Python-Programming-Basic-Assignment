{
 "cells": [
  {
   "cell_type": "markdown",
   "metadata": {},
   "source": [
    "# Programming Assignment 15"
   ]
  },
  {
   "cell_type": "code",
   "execution_count": 17,
   "metadata": {},
   "outputs": [],
   "source": [
    "# Q.1.\n",
    "\n",
    "def generate_nums(m):\n",
    "    n = 0\n",
    "    while n <= m:\n",
    "        yield n\n",
    "        n += (7 * 5)\n",
    "def helper_func():\n",
    "    m = int(input(\"Enter max value: \"))\n",
    "    iterator = generate_nums(m)\n",
    "    output = \"\"\n",
    "    while True:\n",
    "        try:\n",
    "            output += str(next(iterator)) + \", \"\n",
    "        except StopIteration:\n",
    "            break\n",
    "    return output[:-2]"
   ]
  },
  {
   "cell_type": "code",
   "execution_count": 18,
   "metadata": {},
   "outputs": [
    {
     "name": "stdout",
     "output_type": "stream",
     "text": [
      "Enter max value: 100\n"
     ]
    },
    {
     "data": {
      "text/plain": [
       "'0, 35, 70'"
      ]
     },
     "execution_count": 18,
     "metadata": {},
     "output_type": "execute_result"
    }
   ],
   "source": [
    "helper_func()"
   ]
  },
  {
   "cell_type": "code",
   "execution_count": 15,
   "metadata": {},
   "outputs": [],
   "source": [
    "# Q.2.\n",
    "\n",
    "def generate_nums(m):\n",
    "    n = 0\n",
    "    while n <= m:\n",
    "        yield n\n",
    "        n += 2\n",
    "def helper_func():\n",
    "    m = int(input(\"Enter max value: \"))\n",
    "    iterator = generate_nums(m)\n",
    "    output = \"\"\n",
    "    while True:\n",
    "        try:\n",
    "            output += str(next(iterator)) + \", \"\n",
    "        except StopIteration:\n",
    "            break\n",
    "    return output[:-2]"
   ]
  },
  {
   "cell_type": "code",
   "execution_count": 16,
   "metadata": {},
   "outputs": [
    {
     "name": "stdout",
     "output_type": "stream",
     "text": [
      "Enter max value: 10\n"
     ]
    },
    {
     "data": {
      "text/plain": [
       "'0, 2, 4, 6, 8, 10'"
      ]
     },
     "execution_count": 16,
     "metadata": {},
     "output_type": "execute_result"
    }
   ],
   "source": [
    "helper_func()"
   ]
  },
  {
   "cell_type": "code",
   "execution_count": 30,
   "metadata": {},
   "outputs": [
    {
     "name": "stdout",
     "output_type": "stream",
     "text": [
      "Enter value: 7\n",
      "0, 1, 1, 2, 3, 5, 8, 13\n"
     ]
    }
   ],
   "source": [
    "# Q.3.\n",
    "\n",
    "n = int(input(\"Enter value: \"))\n",
    "\n",
    "series = [0, 1]\n",
    "list_comp = [series.append(series[k-1]+series[k-2]) for k in range(2,n+1)]\n",
    "output = \", \".join(map(str, series))\n",
    "print(output)"
   ]
  },
  {
   "cell_type": "code",
   "execution_count": 31,
   "metadata": {},
   "outputs": [],
   "source": [
    "# Q.4.\n",
    "\n",
    "import re"
   ]
  },
  {
   "cell_type": "code",
   "execution_count": 38,
   "metadata": {},
   "outputs": [
    {
     "name": "stdout",
     "output_type": "stream",
     "text": [
      "Enter email: john@google.com\n",
      "john\n"
     ]
    }
   ],
   "source": [
    "email = input(\"Enter email: \")\n",
    "print(re.findall(\"[A-Za-z]*@\", email)[0][:-1])"
   ]
  },
  {
   "cell_type": "code",
   "execution_count": 43,
   "metadata": {},
   "outputs": [],
   "source": [
    "# Q.5.\n",
    "\n",
    "class Shape:\n",
    "    def __init__(self):\n",
    "        self.ar = 0\n",
    "    def area(self):\n",
    "        return self.ar\n"
   ]
  },
  {
   "cell_type": "code",
   "execution_count": 81,
   "metadata": {},
   "outputs": [],
   "source": [
    "class Square(Shape):\n",
    "    def __init__(self, length):\n",
    "        self.ar = length**2\n",
    "    def area(self):\n",
    "        return self.ar"
   ]
  },
  {
   "cell_type": "code",
   "execution_count": 82,
   "metadata": {},
   "outputs": [
    {
     "data": {
      "text/plain": [
       "0"
      ]
     },
     "execution_count": 82,
     "metadata": {},
     "output_type": "execute_result"
    }
   ],
   "source": [
    "shape = Shape()\n",
    "shape.area()"
   ]
  },
  {
   "cell_type": "code",
   "execution_count": 83,
   "metadata": {},
   "outputs": [
    {
     "data": {
      "text/plain": [
       "25"
      ]
     },
     "execution_count": 83,
     "metadata": {},
     "output_type": "execute_result"
    }
   ],
   "source": [
    "shape = Square(5)\n",
    "shape.area()"
   ]
  },
  {
   "cell_type": "code",
   "execution_count": null,
   "metadata": {},
   "outputs": [],
   "source": []
  }
 ],
 "metadata": {
  "kernelspec": {
   "display_name": "Python 3",
   "language": "python",
   "name": "python3"
  },
  "language_info": {
   "codemirror_mode": {
    "name": "ipython",
    "version": 3
   },
   "file_extension": ".py",
   "mimetype": "text/x-python",
   "name": "python",
   "nbconvert_exporter": "python",
   "pygments_lexer": "ipython3",
   "version": "3.8.5"
  }
 },
 "nbformat": 4,
 "nbformat_minor": 4
}
