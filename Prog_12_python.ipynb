{
 "cells": [
  {
   "cell_type": "markdown",
   "metadata": {},
   "source": [
    "# Programming Assignment 12"
   ]
  },
  {
   "cell_type": "code",
   "execution_count": 3,
   "metadata": {},
   "outputs": [],
   "source": [
    "# Q.1.\n",
    "\n",
    "def unique_values(d):\n",
    "    try:\n",
    "        assert type(d) == dict\n",
    "        s = []\n",
    "        for k in d:\n",
    "            if d[k] not in s:\n",
    "                s.append(d[k])\n",
    "        return s\n",
    "    except Exception as e:\n",
    "        print(e)"
   ]
  },
  {
   "cell_type": "code",
   "execution_count": 4,
   "metadata": {},
   "outputs": [
    {
     "data": {
      "text/plain": [
       "['a', [3, 4], 'xyz']"
      ]
     },
     "execution_count": 4,
     "metadata": {},
     "output_type": "execute_result"
    }
   ],
   "source": [
    "unique_values({1:\"a\", \"two\":[3,4], \"b\":\"xyz\"})"
   ]
  },
  {
   "cell_type": "code",
   "execution_count": 5,
   "metadata": {},
   "outputs": [],
   "source": [
    "# Q.2.\n",
    "\n",
    "def sum_values(d):\n",
    "    try:\n",
    "        assert type(d) == dict\n",
    "        s = 0\n",
    "        for k in d:\n",
    "            if type(d[k]) == int or type(d[k]) == float:\n",
    "                s += d[k]\n",
    "        return s\n",
    "    except Exception as e:\n",
    "        print(e)"
   ]
  },
  {
   "cell_type": "code",
   "execution_count": 6,
   "metadata": {},
   "outputs": [
    {
     "data": {
      "text/plain": [
       "260.7"
      ]
     },
     "execution_count": 6,
     "metadata": {},
     "output_type": "execute_result"
    }
   ],
   "source": [
    "sum_values({1:\"a\", \"rt\":55, \"two\":[3,4], \"b\":\"xyz\", \"att\":11.7, \"acl\":194})"
   ]
  },
  {
   "cell_type": "code",
   "execution_count": 9,
   "metadata": {},
   "outputs": [],
   "source": [
    "# Q.3.\n",
    "\n",
    "# In this function, if two dictionaries have the same key, then the values are gathered as a list\n",
    "\n",
    "def merge_values(d1, d2):\n",
    "    try:\n",
    "        assert type(d1) == dict and type(d2) == dict\n",
    "        d3 = d1.copy()\n",
    "        for k in d2:\n",
    "            if k in d1:\n",
    "                if d1[k] == d3[k]:\n",
    "                    d3[k] = [d3[k], d2[k]]\n",
    "                else:\n",
    "                    # already a list of values for duplicate key\n",
    "                    d3[k] = d3[k].append(d2[k])\n",
    "            else:\n",
    "                d3[k] = d2[k]\n",
    "        return d3\n",
    "    except Exception as e:\n",
    "        print(e)"
   ]
  },
  {
   "cell_type": "code",
   "execution_count": 10,
   "metadata": {},
   "outputs": [
    {
     "data": {
      "text/plain": [
       "{1: [['b', 'c'], 'a'],\n",
       " 'two': [2, [3, 4]],\n",
       " 'b': ['xyz', 'xyz'],\n",
       " 'rt': 55,\n",
       " 'att': 11.7,\n",
       " 'acl': 194}"
      ]
     },
     "execution_count": 10,
     "metadata": {},
     "output_type": "execute_result"
    }
   ],
   "source": [
    "d1 = {1:[\"b\", \"c\"], \"two\":2, \"b\":\"xyz\"}\n",
    "d2 = {1:\"a\", \"rt\":55, \"two\":[3,4], \"b\":\"xyz\", \"att\":11.7, \"acl\":194}\n",
    "merge_values(d1, d2)"
   ]
  },
  {
   "cell_type": "code",
   "execution_count": 14,
   "metadata": {},
   "outputs": [],
   "source": [
    "# Q.4.\n",
    "\n",
    "def convert_kv(l):\n",
    "    # input: a list of key-value pairs present as a tuple\n",
    "    # [(k1, v1), (k2, v2), (k3, v3)...]\n",
    "    d = {}\n",
    "    for k, v in l:\n",
    "        d[k] = v\n",
    "    return d"
   ]
  },
  {
   "cell_type": "code",
   "execution_count": 16,
   "metadata": {},
   "outputs": [
    {
     "data": {
      "text/plain": [
       "{1: 'one', 2: 'two', 3: 'three'}"
      ]
     },
     "execution_count": 16,
     "metadata": {},
     "output_type": "execute_result"
    }
   ],
   "source": [
    "l = [(1,\"one\"), (2,\"two\"), (3,\"three\")]\n",
    "convert_kv(l)"
   ]
  },
  {
   "cell_type": "code",
   "execution_count": 17,
   "metadata": {},
   "outputs": [],
   "source": [
    "# Q.5.\n",
    "\n",
    "from collections import OrderedDict"
   ]
  },
  {
   "cell_type": "code",
   "execution_count": 24,
   "metadata": {},
   "outputs": [],
   "source": [
    "def insert_first(d, key, value):\n",
    "    try:\n",
    "        assert type(d) == OrderedDict\n",
    "        l = []\n",
    "        for k in list(d.keys()): # deleting from dictionary while iterating is not allowed\n",
    "            l.append((k, d[k]))\n",
    "            del(d[k])\n",
    "        d[key] = value\n",
    "        for k, v in l:\n",
    "            d[k] = v\n",
    "        return d\n",
    "    except Exception as e:\n",
    "        print(e)"
   ]
  },
  {
   "cell_type": "code",
   "execution_count": 25,
   "metadata": {},
   "outputs": [
    {
     "data": {
      "text/plain": [
       "OrderedDict([(1, 'one'), (2, 'two'), (3, 'three')])"
      ]
     },
     "execution_count": 25,
     "metadata": {},
     "output_type": "execute_result"
    }
   ],
   "source": [
    "insert_first(OrderedDict({2:\"two\", 3:\"three\"}), 1, \"one\")"
   ]
  },
  {
   "cell_type": "code",
   "execution_count": 42,
   "metadata": {},
   "outputs": [],
   "source": [
    "# Q.6.\n",
    "\n",
    "def check_order(s):\n",
    "    # checks the alphabetical order of a string\n",
    "    last_ord = -1\n",
    "    d = OrderedDict.fromkeys(s)\n",
    "    for c in d:\n",
    "        if last_ord <= ord(c):\n",
    "            last_ord = ord(c)\n",
    "            continue\n",
    "        return False\n",
    "    return True"
   ]
  },
  {
   "cell_type": "code",
   "execution_count": 43,
   "metadata": {},
   "outputs": [
    {
     "data": {
      "text/plain": [
       "True"
      ]
     },
     "execution_count": 43,
     "metadata": {},
     "output_type": "execute_result"
    }
   ],
   "source": [
    "check_order(\"abcde\")"
   ]
  },
  {
   "cell_type": "code",
   "execution_count": 44,
   "metadata": {},
   "outputs": [
    {
     "data": {
      "text/plain": [
       "False"
      ]
     },
     "execution_count": 44,
     "metadata": {},
     "output_type": "execute_result"
    }
   ],
   "source": [
    "check_order(\"abcfde\")"
   ]
  },
  {
   "cell_type": "code",
   "execution_count": 32,
   "metadata": {},
   "outputs": [],
   "source": [
    "# Q.7.\n",
    "\n",
    "def sort_dict(d, by_key = True):\n",
    "    if by_key:\n",
    "        keys = sorted(d)\n",
    "    else:\n",
    "        keys = sorted(d, key=d.get)\n",
    "    ans = {}\n",
    "    for k in keys:\n",
    "        ans[k] = d[k]\n",
    "    return ans"
   ]
  },
  {
   "cell_type": "code",
   "execution_count": 33,
   "metadata": {},
   "outputs": [
    {
     "data": {
      "text/plain": [
       "{1: 'D', 2: 'C', 3: 'B', 4: 'A'}"
      ]
     },
     "execution_count": 33,
     "metadata": {},
     "output_type": "execute_result"
    }
   ],
   "source": [
    "sort_dict({3:\"B\", 1:\"D\", 4:\"A\", 2:\"C\"})"
   ]
  },
  {
   "cell_type": "code",
   "execution_count": 35,
   "metadata": {},
   "outputs": [
    {
     "data": {
      "text/plain": [
       "{4: 'A', 3: 'B', 2: 'C', 1: 'D'}"
      ]
     },
     "execution_count": 35,
     "metadata": {},
     "output_type": "execute_result"
    }
   ],
   "source": [
    "sort_dict({3:\"B\", 1:\"D\", 4:\"A\", 2:\"C\"}, by_key=False)"
   ]
  },
  {
   "cell_type": "code",
   "execution_count": null,
   "metadata": {},
   "outputs": [],
   "source": []
  }
 ],
 "metadata": {
  "kernelspec": {
   "display_name": "Python 3",
   "language": "python",
   "name": "python3"
  },
  "language_info": {
   "codemirror_mode": {
    "name": "ipython",
    "version": 3
   },
   "file_extension": ".py",
   "mimetype": "text/x-python",
   "name": "python",
   "nbconvert_exporter": "python",
   "pygments_lexer": "ipython3",
   "version": "3.8.5"
  }
 },
 "nbformat": 4,
 "nbformat_minor": 4
}
