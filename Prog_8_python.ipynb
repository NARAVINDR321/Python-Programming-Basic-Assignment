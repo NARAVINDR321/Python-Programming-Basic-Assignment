{
 "cells": [
  {
   "cell_type": "markdown",
   "metadata": {},
   "source": [
    "# Programming Assignment 8"
   ]
  },
  {
   "cell_type": "code",
   "execution_count": 2,
   "metadata": {},
   "outputs": [],
   "source": [
    "import numpy as np"
   ]
  },
  {
   "cell_type": "code",
   "execution_count": 5,
   "metadata": {},
   "outputs": [],
   "source": [
    "# Q.1.\n",
    "\n",
    "def add_two_matrix(A, B):\n",
    "    '''\n",
    "    A and B are two 2D lists converted to numpy 2D arrays and added\n",
    "    Return type is numpy array\n",
    "    '''\n",
    "    nA = np.array(A)\n",
    "    nB = np.array(B)\n",
    "    if nA.shape == nB.shape:\n",
    "        return nA + nB\n",
    "    else:\n",
    "        print(\"Inputs do not have the same shape\")\n",
    "        return None"
   ]
  },
  {
   "cell_type": "code",
   "execution_count": 6,
   "metadata": {},
   "outputs": [
    {
     "data": {
      "text/plain": [
       "array([[0, 0],\n",
       "       [0, 0]])"
      ]
     },
     "execution_count": 6,
     "metadata": {},
     "output_type": "execute_result"
    }
   ],
   "source": [
    "add_two_matrix([[1,2], [3,4]], [[-1,-2], [-3, -4]])"
   ]
  },
  {
   "cell_type": "code",
   "execution_count": 11,
   "metadata": {},
   "outputs": [],
   "source": [
    "# Q.2.\n",
    "\n",
    "def mul_two_matrix(A, B):\n",
    "    '''\n",
    "    A and B are two 2D lists converted to numpy 2D arrays and multiplied (matrix multiplication)\n",
    "    Return type is numpy array\n",
    "    '''\n",
    "    nA = np.array(A)\n",
    "    nB = np.array(B)\n",
    "    try:\n",
    "        assert nA.shape[1] == nB.shape[0]\n",
    "        return np.dot(nA, nB)\n",
    "    except Exception as e:\n",
    "        print(e)\n",
    "        return None"
   ]
  },
  {
   "cell_type": "code",
   "execution_count": 13,
   "metadata": {},
   "outputs": [
    {
     "data": {
      "text/plain": [
       "array([[ -7, -10],\n",
       "       [-15, -22],\n",
       "       [-23, -34]])"
      ]
     },
     "execution_count": 13,
     "metadata": {},
     "output_type": "execute_result"
    }
   ],
   "source": [
    "mul_two_matrix([[1,2], [3,4], [5,6]], [[-1,-2], [-3, -4]])"
   ]
  },
  {
   "cell_type": "code",
   "execution_count": 14,
   "metadata": {},
   "outputs": [],
   "source": [
    "# Q.3.\n",
    "\n",
    "def transpose(A):\n",
    "    nA = np.array(A)\n",
    "    return nA.T"
   ]
  },
  {
   "cell_type": "code",
   "execution_count": 15,
   "metadata": {},
   "outputs": [
    {
     "data": {
      "text/plain": [
       "array([[1, 2, 3],\n",
       "       [1, 2, 3],\n",
       "       [1, 2, 3]])"
      ]
     },
     "execution_count": 15,
     "metadata": {},
     "output_type": "execute_result"
    }
   ],
   "source": [
    "transpose([[1,1,1], [2,2,2], [3,3,3]])"
   ]
  },
  {
   "cell_type": "code",
   "execution_count": 17,
   "metadata": {},
   "outputs": [],
   "source": [
    "# Q.4.\n",
    "\n",
    "def sort_words(lst):\n",
    "    '''\n",
    "    lst: a list of words (strings)\n",
    "    returns sorted list\n",
    "    '''\n",
    "    return sorted([w.lower() for w in lst])\n"
   ]
  },
  {
   "cell_type": "code",
   "execution_count": 19,
   "metadata": {},
   "outputs": [
    {
     "data": {
      "text/plain": [
       "['apple', 'facebook', 'google', 'microsoft', 'tesla']"
      ]
     },
     "execution_count": 19,
     "metadata": {},
     "output_type": "execute_result"
    }
   ],
   "source": [
    "sort_words([\"apple\", \"Microsoft\", \"Tesla\", \"facebook\", \"Google\"])"
   ]
  },
  {
   "cell_type": "code",
   "execution_count": 25,
   "metadata": {},
   "outputs": [],
   "source": [
    "# Q.5.\n",
    "\n",
    "def remove_punc(s):\n",
    "    numbers = \"0123456789\"\n",
    "    new_s = \"\"\n",
    "    for c in s:\n",
    "        if c not in numbers:\n",
    "            n = ord(c)\n",
    "            if (n<65) or (n > 90 and n < 97) or (n > 122):\n",
    "                continue\n",
    "        new_s += c\n",
    "    return new_s"
   ]
  },
  {
   "cell_type": "code",
   "execution_count": 26,
   "metadata": {},
   "outputs": [
    {
     "data": {
      "text/plain": [
       "'abc123emailcom'"
      ]
     },
     "execution_count": 26,
     "metadata": {},
     "output_type": "execute_result"
    }
   ],
   "source": [
    "remove_punc(\"abc123@email.com\")"
   ]
  },
  {
   "cell_type": "code",
   "execution_count": null,
   "metadata": {},
   "outputs": [],
   "source": []
  }
 ],
 "metadata": {
  "kernelspec": {
   "display_name": "Python 3",
   "language": "python",
   "name": "python3"
  },
  "language_info": {
   "codemirror_mode": {
    "name": "ipython",
    "version": 3
   },
   "file_extension": ".py",
   "mimetype": "text/x-python",
   "name": "python",
   "nbconvert_exporter": "python",
   "pygments_lexer": "ipython3",
   "version": "3.8.5"
  }
 },
 "nbformat": 4,
 "nbformat_minor": 4
}
