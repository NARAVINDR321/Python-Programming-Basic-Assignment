{
 "cells": [
  {
   "cell_type": "markdown",
   "metadata": {},
   "source": [
    "# Programming Assignment 10"
   ]
  },
  {
   "cell_type": "code",
   "execution_count": 9,
   "metadata": {},
   "outputs": [],
   "source": [
    "# Q.1.\n",
    "\n",
    "def sum_list(l):\n",
    "    try:\n",
    "        assert type(l) == list\n",
    "        return sum(l)\n",
    "    except AssertionError:\n",
    "        print(\"Input type should be list\")\n",
    "        return None\n",
    "    except Exception as e:\n",
    "        print(e)\n",
    "        return None\n",
    "        "
   ]
  },
  {
   "cell_type": "code",
   "execution_count": 11,
   "metadata": {},
   "outputs": [
    {
     "name": "stdout",
     "output_type": "stream",
     "text": [
      "Input type should be list\n",
      "None\n"
     ]
    }
   ],
   "source": [
    "print(sum_list(\"abc\"))\n",
    "\n"
   ]
  },
  {
   "cell_type": "code",
   "execution_count": 12,
   "metadata": {},
   "outputs": [
    {
     "name": "stdout",
     "output_type": "stream",
     "text": [
      "unsupported operand type(s) for +: 'int' and 'str'\n",
      "None\n"
     ]
    }
   ],
   "source": [
    "print(sum_list([0, \"ab\", 2.2]))"
   ]
  },
  {
   "cell_type": "code",
   "execution_count": 14,
   "metadata": {},
   "outputs": [
    {
     "name": "stdout",
     "output_type": "stream",
     "text": [
      "4.6\n"
     ]
    }
   ],
   "source": [
    "print(sum_list([0, 1.2, 3.4]))"
   ]
  },
  {
   "cell_type": "code",
   "execution_count": 17,
   "metadata": {},
   "outputs": [],
   "source": [
    "from functools import reduce"
   ]
  },
  {
   "cell_type": "code",
   "execution_count": 24,
   "metadata": {},
   "outputs": [],
   "source": [
    "# Q.2.\n",
    "\n",
    "def mult_list(l):\n",
    "    try:\n",
    "        assert type(l) == list\n",
    "        if l == []:\n",
    "            return 1\n",
    "        return reduce(lambda x,y:x*y, l)\n",
    "    except AssertionError:\n",
    "        print(\"Input type should be list\")\n",
    "        return None\n",
    "    except Exception as e:\n",
    "        print(e)\n",
    "        return None"
   ]
  },
  {
   "cell_type": "code",
   "execution_count": 26,
   "metadata": {},
   "outputs": [
    {
     "name": "stdout",
     "output_type": "stream",
     "text": [
      "Input type should be list\n"
     ]
    }
   ],
   "source": [
    "mult_list(\"svc\")"
   ]
  },
  {
   "cell_type": "code",
   "execution_count": 30,
   "metadata": {},
   "outputs": [
    {
     "data": {
      "text/plain": [
       "'aaaaaaaaaaaaaaaaaaaaaaaa'"
      ]
     },
     "execution_count": 30,
     "metadata": {},
     "output_type": "execute_result"
    }
   ],
   "source": [
    "mult_list([4, \"a\", 2, 3])"
   ]
  },
  {
   "cell_type": "code",
   "execution_count": 33,
   "metadata": {},
   "outputs": [
    {
     "name": "stdout",
     "output_type": "stream",
     "text": [
      "can't multiply sequence by non-int of type 'str'\n"
     ]
    }
   ],
   "source": [
    "mult_list([4, \"a\", 2, 3, \"b\"])"
   ]
  },
  {
   "cell_type": "code",
   "execution_count": 32,
   "metadata": {},
   "outputs": [
    {
     "data": {
      "text/plain": [
       "30"
      ]
     },
     "execution_count": 32,
     "metadata": {},
     "output_type": "execute_result"
    }
   ],
   "source": [
    "mult_list([1,6,5])"
   ]
  },
  {
   "cell_type": "code",
   "execution_count": 34,
   "metadata": {},
   "outputs": [
    {
     "data": {
      "text/plain": [
       "1"
      ]
     },
     "execution_count": 34,
     "metadata": {},
     "output_type": "execute_result"
    }
   ],
   "source": [
    "mult_list([])"
   ]
  },
  {
   "cell_type": "code",
   "execution_count": 35,
   "metadata": {},
   "outputs": [],
   "source": [
    "# Q.3.\n",
    "\n",
    "def min_list(l):\n",
    "    try:\n",
    "        assert type(l) == list\n",
    "        if l == []:\n",
    "            return None\n",
    "        return min(l)\n",
    "    except AssertionError:\n",
    "        print(\"Input type should be list\")\n",
    "        return None\n",
    "    except Exception as e:\n",
    "        print(e)\n",
    "        return None"
   ]
  },
  {
   "cell_type": "code",
   "execution_count": 36,
   "metadata": {},
   "outputs": [
    {
     "data": {
      "text/plain": [
       "-3"
      ]
     },
     "execution_count": 36,
     "metadata": {},
     "output_type": "execute_result"
    }
   ],
   "source": [
    "min_list([1,5,2,0,-3])"
   ]
  },
  {
   "cell_type": "code",
   "execution_count": 37,
   "metadata": {},
   "outputs": [],
   "source": [
    "# Q.4.\n",
    "\n",
    "def max_list(l):\n",
    "    try:\n",
    "        assert type(l) == list\n",
    "        if l == []:\n",
    "            return None\n",
    "        return max(l)\n",
    "    except AssertionError:\n",
    "        print(\"Input type should be list\")\n",
    "        return None\n",
    "    except Exception as e:\n",
    "        print(e)\n",
    "        return None"
   ]
  },
  {
   "cell_type": "code",
   "execution_count": 38,
   "metadata": {},
   "outputs": [
    {
     "data": {
      "text/plain": [
       "19"
      ]
     },
     "execution_count": 38,
     "metadata": {},
     "output_type": "execute_result"
    }
   ],
   "source": [
    "max_list([12, 4, 7, 19])"
   ]
  },
  {
   "cell_type": "code",
   "execution_count": 43,
   "metadata": {},
   "outputs": [],
   "source": [
    "# Q.5.\n",
    "\n",
    "def second_largest_list(l):\n",
    "    try:\n",
    "        assert type(l) == list\n",
    "        if len(l) < 2:\n",
    "            print(\"insufficient length of list\")\n",
    "            return None\n",
    "        m = max(l)\n",
    "        sm = l[0]\n",
    "        for x in l:\n",
    "            if x < m and x > sm:\n",
    "                sm = x\n",
    "        return sm\n",
    "    except AssertionError:\n",
    "        print(\"Input type should be list\")\n",
    "        return None\n",
    "    except Exception as e:\n",
    "        print(e)\n",
    "        return None   "
   ]
  },
  {
   "cell_type": "code",
   "execution_count": 44,
   "metadata": {},
   "outputs": [
    {
     "data": {
      "text/plain": [
       "5"
      ]
     },
     "execution_count": 44,
     "metadata": {},
     "output_type": "execute_result"
    }
   ],
   "source": [
    "second_largest_list([1,4,5,8,8])"
   ]
  },
  {
   "cell_type": "code",
   "execution_count": 53,
   "metadata": {},
   "outputs": [],
   "source": [
    "# Q.6.\n",
    "\n",
    "def n_largest_list(l, n):\n",
    "    try:\n",
    "        assert type(l) == list and type(n) == int\n",
    "        if len(l) < n:\n",
    "            print(\"Insufficient length of list\")\n",
    "            return None\n",
    "        return sorted(l, reverse = True)[:n+1]\n",
    "    except AssertionError:\n",
    "        print(\"Inputs should be list and int type respectively\")\n",
    "        return None\n",
    "    except Exception as e:\n",
    "        print(e)\n",
    "        return None   "
   ]
  },
  {
   "cell_type": "code",
   "execution_count": 54,
   "metadata": {},
   "outputs": [
    {
     "data": {
      "text/plain": [
       "[10, 7.7, 6, 5]"
      ]
     },
     "execution_count": 54,
     "metadata": {},
     "output_type": "execute_result"
    }
   ],
   "source": [
    "n_largest_list([6,2,7.7, 10,5], 3)"
   ]
  },
  {
   "cell_type": "code",
   "execution_count": 55,
   "metadata": {},
   "outputs": [
    {
     "name": "stdout",
     "output_type": "stream",
     "text": [
      "Inputs should be list and int type respectively\n"
     ]
    }
   ],
   "source": [
    "n_largest_list([1,2,3], \"str\")"
   ]
  },
  {
   "cell_type": "code",
   "execution_count": 63,
   "metadata": {},
   "outputs": [],
   "source": [
    "# Q.7.\n",
    "\n",
    "def even_list(l):\n",
    "    try:\n",
    "        assert type(l) == list\n",
    "        if l == []:\n",
    "            return None\n",
    "        for x in l:\n",
    "            if type(x) == int and x%2 == 0:\n",
    "                print(x)\n",
    "    except AssertionError:\n",
    "        print(\"Input type should be list\")\n",
    "        return None\n",
    "    except Exception as e:\n",
    "        print(e)\n",
    "        return None "
   ]
  },
  {
   "cell_type": "code",
   "execution_count": 64,
   "metadata": {},
   "outputs": [
    {
     "name": "stdout",
     "output_type": "stream",
     "text": [
      "2\n",
      "4\n"
     ]
    }
   ],
   "source": [
    "even_list([1,2,3,4,5,\"s\"])"
   ]
  },
  {
   "cell_type": "code",
   "execution_count": 65,
   "metadata": {},
   "outputs": [],
   "source": [
    "# Q.8.\n",
    "\n",
    "def odd_list(l):\n",
    "    try:\n",
    "        assert type(l) == list\n",
    "        if l == []:\n",
    "            return None\n",
    "        for x in l:\n",
    "            if type(x) == int and x%2 != 0:\n",
    "                print(x)\n",
    "    except AssertionError:\n",
    "        print(\"Input type should be list\")\n",
    "        return None\n",
    "    except Exception as e:\n",
    "        print(e)\n",
    "        return None "
   ]
  },
  {
   "cell_type": "code",
   "execution_count": 66,
   "metadata": {},
   "outputs": [
    {
     "name": "stdout",
     "output_type": "stream",
     "text": [
      "1\n",
      "3\n",
      "5\n"
     ]
    }
   ],
   "source": [
    "odd_list([1,2,3,4,5,\"s\"])"
   ]
  },
  {
   "cell_type": "code",
   "execution_count": 92,
   "metadata": {},
   "outputs": [],
   "source": [
    "# Q.9.\n",
    "\n",
    "def remove_empty(l):\n",
    "    try:\n",
    "        assert type(l) == list\n",
    "        if l == []:\n",
    "            return l\n",
    "        l1 = []\n",
    "        for x in l:\n",
    "            if x != []:\n",
    "                l1.append(x)\n",
    "        return l1\n",
    "    except AssertionError:\n",
    "        print(\"Input type should be list\")\n",
    "        return None\n",
    "    except Exception as e:\n",
    "        print(e)\n",
    "        return None "
   ]
  },
  {
   "cell_type": "code",
   "execution_count": 94,
   "metadata": {},
   "outputs": [
    {
     "data": {
      "text/plain": [
       "[1, 3, 4]"
      ]
     },
     "execution_count": 94,
     "metadata": {},
     "output_type": "execute_result"
    }
   ],
   "source": [
    "remove_empty([1,3,[], 4, [], []])"
   ]
  },
  {
   "cell_type": "code",
   "execution_count": 95,
   "metadata": {},
   "outputs": [],
   "source": [
    "# Q.10.\n",
    "\n",
    "def clone_list(l):\n",
    "    try:\n",
    "        assert type(l) == list\n",
    "        return l.copy()\n",
    "    except AssertionError:\n",
    "        print(\"Input type should be list\")\n",
    "        return None\n",
    "    except Exception as e:\n",
    "        print(e)\n",
    "        return None"
   ]
  },
  {
   "cell_type": "code",
   "execution_count": 96,
   "metadata": {},
   "outputs": [
    {
     "data": {
      "text/plain": [
       "[1, 2, 3, 4, 5]"
      ]
     },
     "execution_count": 96,
     "metadata": {},
     "output_type": "execute_result"
    }
   ],
   "source": [
    "clone_list([1,2,3,4,5])"
   ]
  },
  {
   "cell_type": "code",
   "execution_count": 97,
   "metadata": {},
   "outputs": [],
   "source": [
    "# Q.11.\n",
    "\n",
    "from collections import Counter"
   ]
  },
  {
   "cell_type": "code",
   "execution_count": 103,
   "metadata": {},
   "outputs": [],
   "source": [
    "def count_freq(l, e):\n",
    "    try:\n",
    "        assert type(l) == list\n",
    "        if l == []:\n",
    "            return 0\n",
    "        count = Counter(l)\n",
    "        return count.get(e, 0)\n",
    "    except AssertionError:\n",
    "        print(\"Input type should be list\")\n",
    "        return None\n",
    "    except Exception as e:\n",
    "        print(e)\n",
    "        return None"
   ]
  },
  {
   "cell_type": "code",
   "execution_count": 104,
   "metadata": {},
   "outputs": [
    {
     "data": {
      "text/plain": [
       "3"
      ]
     },
     "execution_count": 104,
     "metadata": {},
     "output_type": "execute_result"
    }
   ],
   "source": [
    "count_freq([1,2,1,4,\"a\", \"a\", 1], 1)"
   ]
  },
  {
   "cell_type": "code",
   "execution_count": 105,
   "metadata": {},
   "outputs": [
    {
     "data": {
      "text/plain": [
       "2"
      ]
     },
     "execution_count": 105,
     "metadata": {},
     "output_type": "execute_result"
    }
   ],
   "source": [
    "count_freq([1,2,1,4,\"a\", \"a\", 1], \"a\")"
   ]
  },
  {
   "cell_type": "code",
   "execution_count": 106,
   "metadata": {},
   "outputs": [
    {
     "data": {
      "text/plain": [
       "0"
      ]
     },
     "execution_count": 106,
     "metadata": {},
     "output_type": "execute_result"
    }
   ],
   "source": [
    "count_freq([1,2,1,4,\"a\", \"a\", 1], \"b\")"
   ]
  },
  {
   "cell_type": "code",
   "execution_count": null,
   "metadata": {},
   "outputs": [],
   "source": []
  }
 ],
 "metadata": {
  "kernelspec": {
   "display_name": "Python 3",
   "language": "python",
   "name": "python3"
  },
  "language_info": {
   "codemirror_mode": {
    "name": "ipython",
    "version": 3
   },
   "file_extension": ".py",
   "mimetype": "text/x-python",
   "name": "python",
   "nbconvert_exporter": "python",
   "pygments_lexer": "ipython3",
   "version": "3.8.5"
  }
 },
 "nbformat": 4,
 "nbformat_minor": 4
}
