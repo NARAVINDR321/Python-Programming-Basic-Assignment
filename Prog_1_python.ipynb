{
 "cells": [
  {
   "cell_type": "markdown",
   "metadata": {},
   "source": [
    "# Programming Assignment 1\n",
    "\n",
    "1."
   ]
  },
  {
   "cell_type": "code",
   "execution_count": 1,
   "metadata": {},
   "outputs": [
    {
     "name": "stdout",
     "output_type": "stream",
     "text": [
      "Hello Python\n"
     ]
    }
   ],
   "source": [
    "print(\"Hello Python\")"
   ]
  },
  {
   "cell_type": "markdown",
   "metadata": {},
   "source": [
    "2."
   ]
  },
  {
   "cell_type": "code",
   "execution_count": 3,
   "metadata": {},
   "outputs": [
    {
     "name": "stdout",
     "output_type": "stream",
     "text": [
      "Addition: 9\n",
      "Division: 2.0\n"
     ]
    }
   ],
   "source": [
    "a = 6\n",
    "b = 3\n",
    "add_a_b = a + b\n",
    "div_a_b = a / b\n",
    "print('Addition:', add_a_b)\n",
    "print('Division:', div_a_b)"
   ]
  },
  {
   "cell_type": "markdown",
   "metadata": {},
   "source": [
    "3."
   ]
  },
  {
   "cell_type": "code",
   "execution_count": 4,
   "metadata": {},
   "outputs": [
    {
     "name": "stdout",
     "output_type": "stream",
     "text": [
      "Area: 52.0\n"
     ]
    }
   ],
   "source": [
    "'''Area of a right angled triangle'''\n",
    "base = 13\n",
    "height = 8\n",
    "area = 1/2 * base * height\n",
    "print('Area:', area)"
   ]
  },
  {
   "cell_type": "code",
   "execution_count": 6,
   "metadata": {},
   "outputs": [
    {
     "name": "stdout",
     "output_type": "stream",
     "text": [
      "Area: 14.142135623730951\n"
     ]
    }
   ],
   "source": [
    "'''Area of any triangle given its sides'''\n",
    "a = 5\n",
    "b = 9\n",
    "c = 6\n",
    "semi = (a+b+c)/2\n",
    "area = (semi*(semi-a)*(semi-b)*(semi-c))**0.5\n",
    "print('Area:', area)"
   ]
  },
  {
   "cell_type": "markdown",
   "metadata": {},
   "source": [
    "4."
   ]
  },
  {
   "cell_type": "code",
   "execution_count": 5,
   "metadata": {},
   "outputs": [
    {
     "name": "stdout",
     "output_type": "stream",
     "text": [
      "a before swap: 1\n",
      "b before swap: 2\n",
      "a after swap: 2\n",
      "b after swap: 1\n"
     ]
    }
   ],
   "source": [
    "a = 1\n",
    "b = 2\n",
    "print('a before swap:', a)\n",
    "print('b before swap:', b)\n",
    "a, b = b, a\n",
    "print('a after swap:', a)\n",
    "print('b after swap:', b)"
   ]
  },
  {
   "cell_type": "markdown",
   "metadata": {},
   "source": [
    "5."
   ]
  },
  {
   "cell_type": "code",
   "execution_count": 10,
   "metadata": {},
   "outputs": [
    {
     "name": "stdout",
     "output_type": "stream",
     "text": [
      "Random number: 0.31352704877676496\n"
     ]
    }
   ],
   "source": [
    "import random\n",
    "print('Random number:', random.random())"
   ]
  },
  {
   "cell_type": "code",
   "execution_count": null,
   "metadata": {},
   "outputs": [],
   "source": []
  }
 ],
 "metadata": {
  "kernelspec": {
   "display_name": "Python 3 (ipykernel)",
   "language": "python",
   "name": "python3"
  },
  "language_info": {
   "codemirror_mode": {
    "name": "ipython",
    "version": 3
   },
   "file_extension": ".py",
   "mimetype": "text/x-python",
   "name": "python",
   "nbconvert_exporter": "python",
   "pygments_lexer": "ipython3",
   "version": "3.9.7"
  }
 },
 "nbformat": 4,
 "nbformat_minor": 4
}
