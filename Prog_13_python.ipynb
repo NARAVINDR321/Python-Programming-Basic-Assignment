{
 "cells": [
  {
   "cell_type": "markdown",
   "metadata": {},
   "source": [
    "# Programming Assignment 13"
   ]
  },
  {
   "cell_type": "code",
   "execution_count": 5,
   "metadata": {},
   "outputs": [],
   "source": [
    "# Q.1.\n",
    "\n",
    "def evaluate(*args):\n",
    "    C = 50\n",
    "    H = 30\n",
    "    ans = []\n",
    "    for x in args:\n",
    "        p = 2 * C * x / H\n",
    "        ans.append(int(round(p**0.5,0)))\n",
    "    return ans"
   ]
  },
  {
   "cell_type": "code",
   "execution_count": 6,
   "metadata": {},
   "outputs": [
    {
     "data": {
      "text/plain": [
       "[18, 22, 24]"
      ]
     },
     "execution_count": 6,
     "metadata": {},
     "output_type": "execute_result"
    }
   ],
   "source": [
    "evaluate(100, 150, 180)"
   ]
  },
  {
   "cell_type": "code",
   "execution_count": 7,
   "metadata": {},
   "outputs": [],
   "source": [
    "# Q.2.\n",
    "\n",
    "def create_table(X, Y):\n",
    "    l = []\n",
    "    for i in range(X):\n",
    "        r = []\n",
    "        for j in range(Y):\n",
    "            r.append(i * j)\n",
    "        l.append(r)\n",
    "    return l"
   ]
  },
  {
   "cell_type": "code",
   "execution_count": 8,
   "metadata": {},
   "outputs": [
    {
     "data": {
      "text/plain": [
       "[[0, 0, 0, 0, 0], [0, 1, 2, 3, 4], [0, 2, 4, 6, 8]]"
      ]
     },
     "execution_count": 8,
     "metadata": {},
     "output_type": "execute_result"
    }
   ],
   "source": [
    "create_table(3,5)"
   ]
  },
  {
   "cell_type": "code",
   "execution_count": 17,
   "metadata": {},
   "outputs": [],
   "source": [
    "# Q.3.\n",
    "\n",
    "def sort_words(*args):\n",
    "    words = sorted(args)\n",
    "    return tuple(words)"
   ]
  },
  {
   "cell_type": "code",
   "execution_count": 18,
   "metadata": {},
   "outputs": [
    {
     "data": {
      "text/plain": [
       "('bag', 'hello', 'without', 'world')"
      ]
     },
     "execution_count": 18,
     "metadata": {},
     "output_type": "execute_result"
    }
   ],
   "source": [
    "sort_words(\"without\",\"hello\",\"bag\",\"world\")"
   ]
  },
  {
   "cell_type": "code",
   "execution_count": 21,
   "metadata": {},
   "outputs": [],
   "source": [
    "# Q.4.\n",
    "\n",
    "def process_string(s):\n",
    "    words = sorted(list(set(s.split())))\n",
    "    return \" \".join(words)"
   ]
  },
  {
   "cell_type": "code",
   "execution_count": 22,
   "metadata": {},
   "outputs": [
    {
     "data": {
      "text/plain": [
       "'again and hello makes perfect practice world'"
      ]
     },
     "execution_count": 22,
     "metadata": {},
     "output_type": "execute_result"
    }
   ],
   "source": [
    "process_string(\"hello world and practice makes perfect and hello world again\")"
   ]
  },
  {
   "cell_type": "code",
   "execution_count": 25,
   "metadata": {},
   "outputs": [],
   "source": [
    "# Q.5.\n",
    "\n",
    "def count_letters_numbers(s):\n",
    "    letter_count = 0\n",
    "    number_count = 0\n",
    "    for c in s:\n",
    "        if c.isnumeric():\n",
    "            number_count += 1\n",
    "        elif c.isalpha():\n",
    "            letter_count += 1\n",
    "    return \"LETTERS {}\\nDIGITS {}\".format(letter_count, number_count)"
   ]
  },
  {
   "cell_type": "code",
   "execution_count": 27,
   "metadata": {},
   "outputs": [
    {
     "name": "stdout",
     "output_type": "stream",
     "text": [
      "LETTERS 10\n",
      "DIGITS 3\n"
     ]
    }
   ],
   "source": [
    "print(count_letters_numbers(\"hello world! 123\"))"
   ]
  },
  {
   "cell_type": "code",
   "execution_count": 42,
   "metadata": {},
   "outputs": [],
   "source": [
    "# Q.6.\n",
    "\n",
    "def valid_pass(*passwords):\n",
    "    def check(pswd):\n",
    "        n = len(pswd)\n",
    "        if n < 6 and n > 12:\n",
    "            return False\n",
    "        hasNum = None\n",
    "        hasSmall = None\n",
    "        hasBig = None\n",
    "        hasSpl = None\n",
    "        special_chars = \"$#@\"\n",
    "        for c in pswd:\n",
    "            if c.isnumeric():\n",
    "                if not hasNum:\n",
    "                    hasNum = True\n",
    "                continue\n",
    "            elif special_chars.find(c) != -1:\n",
    "                if not hasSpl:\n",
    "                    hasSpl = True\n",
    "                continue\n",
    "            elif c.isalpha():\n",
    "                if ord(c) >= 97 and not hasSmall:\n",
    "                    hasSmall = True\n",
    "                    continue\n",
    "                elif ord(c) >= 65 and not hasBig:\n",
    "                    hasBig = True\n",
    "                    continue\n",
    "            else:\n",
    "                #Not a valid character\n",
    "                return False\n",
    "        if hasNum and hasSpl and hasSmall and hasBig:\n",
    "            return True\n",
    "        return False\n",
    "    ans = []\n",
    "    for password in passwords:\n",
    "        if check(password):\n",
    "            ans.append(password)\n",
    "    return ans"
   ]
  },
  {
   "cell_type": "code",
   "execution_count": 43,
   "metadata": {},
   "outputs": [
    {
     "data": {
      "text/plain": [
       "['ABd1234@1']"
      ]
     },
     "execution_count": 43,
     "metadata": {},
     "output_type": "execute_result"
    }
   ],
   "source": [
    "valid_pass(\"ABd1234@1\",\"a F1#\",\"2w3E*\",\"2We3345\")"
   ]
  },
  {
   "cell_type": "code",
   "execution_count": null,
   "metadata": {},
   "outputs": [],
   "source": []
  }
 ],
 "metadata": {
  "kernelspec": {
   "display_name": "Python 3",
   "language": "python",
   "name": "python3"
  },
  "language_info": {
   "codemirror_mode": {
    "name": "ipython",
    "version": 3
   },
   "file_extension": ".py",
   "mimetype": "text/x-python",
   "name": "python",
   "nbconvert_exporter": "python",
   "pygments_lexer": "ipython3",
   "version": "3.8.5"
  }
 },
 "nbformat": 4,
 "nbformat_minor": 4
}
